{
  "nbformat": 4,
  "nbformat_minor": 0,
  "metadata": {
    "colab": {
      "provenance": [],
      "authorship_tag": "ABX9TyM2oOaXbVY2ZnZvDBCRCMLT",
      "include_colab_link": true
    },
    "kernelspec": {
      "name": "python3",
      "display_name": "Python 3"
    },
    "language_info": {
      "name": "python"
    }
  },
  "cells": [
    {
      "cell_type": "markdown",
      "metadata": {
        "id": "view-in-github",
        "colab_type": "text"
      },
      "source": [
        "<a href=\"https://colab.research.google.com/github/adeiaa/Praktikum_pbo_2/blob/main/Enkapsulasi_2.ipynb\" target=\"_parent\"><img src=\"https://colab.research.google.com/assets/colab-badge.svg\" alt=\"Open In Colab\"/></a>"
      ]
    },
    {
      "cell_type": "code",
      "execution_count": 1,
      "metadata": {
        "colab": {
          "base_uri": "https://localhost:8080/"
        },
        "id": "2Uqk94vSnIn3",
        "outputId": "6c0cd4fe-cde6-4b2e-e2ae-336e8d83692b"
      },
      "outputs": [
        {
          "output_type": "stream",
          "name": "stdout",
          "text": [
            "800.0\n"
          ]
        }
      ],
      "source": [
        "# enkapsulasi dengan private access modifier\n",
        "class pegawai:\n",
        "    def __init__(self, nama, salary):\n",
        "        self.nama=nama\n",
        "        self.gaji=salary\n",
        "        self.__gaji_final= self.gaji - (0.2 * self.gaji)\n",
        "\n",
        "    def showGajiFinal(self):\n",
        "        return self.__gaji_final\n",
        "\n",
        "obj1=pegawai(\"Agus\", 1000)\n",
        "print(obj1.showGajiFinal())"
      ]
    }
  ]
}